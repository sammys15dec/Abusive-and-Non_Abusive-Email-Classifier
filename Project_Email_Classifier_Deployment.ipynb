{
 "cells": [
  {
   "cell_type": "code",
   "execution_count": 5,
   "metadata": {},
   "outputs": [],
   "source": [
    "#!pip install cleantext"
   ]
  },
  {
   "cell_type": "code",
   "execution_count": 6,
   "metadata": {},
   "outputs": [],
   "source": [
    "#!pip install sklearn"
   ]
  },
  {
   "cell_type": "code",
   "execution_count": 7,
   "metadata": {},
   "outputs": [
    {
     "name": "stderr",
     "output_type": "stream",
     "text": [
      "[nltk_data] Downloading package stopwords to C:\\Users\\SaMMy\n",
      "[nltk_data]     INaMdaR\\AppData\\Roaming\\nltk_data...\n",
      "[nltk_data]   Package stopwords is already up-to-date!\n"
     ]
    },
    {
     "data": {
      "text/plain": [
       "True"
      ]
     },
     "execution_count": 7,
     "metadata": {},
     "output_type": "execute_result"
    }
   ],
   "source": [
    "import nltk\n",
    "nltk.download('stopwords')"
   ]
  },
  {
   "cell_type": "code",
   "execution_count": 10,
   "metadata": {},
   "outputs": [
    {
     "name": "stdout",
     "output_type": "stream",
     "text": [
      "Overwriting app.py\n"
     ]
    }
   ],
   "source": [
    "%%writefile app.py\n",
    "import streamlit as st\n",
    "import pandas as pd\n",
    "from sklearn.linear_model import LogisticRegression\n",
    "from sklearn.feature_extraction.text import TfidfVectorizer\n",
    "import cleantext\n",
    "from sklearn.preprocessing import LabelEncoder\n",
    "encoder=LabelEncoder()\n",
    "\n",
    "st.title('Abusive Email classification')\n",
    "st.subheader(\"Natural Language processing\")\n",
    "def user_input_features():\n",
    "    content = st.text_input(\"Enter mail\")\n",
    "    return content\n",
    "\n",
    "df = user_input_features()\n",
    "st.write(df)\n",
    "\n",
    "data = pd.read_csv('emails1.csv')\n",
    "data.dropna(inplace=True)\n",
    "data['Class']=encoder.fit_transform(data['Class'])\n",
    "data1 = data.head(20000)\n",
    "\n",
    "vectorizer = TfidfVectorizer(min_df = 5, max_df = 0.8, sublinear_tf = True, use_idf = True)\n",
    "X = vectorizer.fit_transform(data1['content'])\n",
    "\n",
    "\n",
    "classifier = LogisticRegression(solver='liblinear',penalty='l1')\n",
    "classifier.fit(X, data1['Class'])\n",
    "\n",
    "df=cleantext.clean(df)\n",
    "df= vectorizer.transform([df])\n",
    "prediction = classifier.predict(df)\n",
    "st.subheader('Predict')\n",
    "st.write('ABUSIVE' if prediction == 0 else 'NON ABUSIVE')\n"
   ]
  },
  {
   "cell_type": "code",
   "execution_count": null,
   "metadata": {},
   "outputs": [],
   "source": []
  }
 ],
 "metadata": {
  "kernelspec": {
   "display_name": "Python 3",
   "language": "python",
   "name": "python3"
  },
  "language_info": {
   "codemirror_mode": {
    "name": "ipython",
    "version": 3
   },
   "file_extension": ".py",
   "mimetype": "text/x-python",
   "name": "python",
   "nbconvert_exporter": "python",
   "pygments_lexer": "ipython3",
   "version": "3.8.5"
  }
 },
 "nbformat": 4,
 "nbformat_minor": 4
}
